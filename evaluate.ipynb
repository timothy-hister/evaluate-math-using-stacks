{
 "cells": [
  {
   "cell_type": "markdown",
   "metadata": {},
   "source": [
    "In this guided project, we will use the `stack` data structure to implement an algorithm that can evaluate numerical expressions. First off, let's define our classes -- nodes, linked lists and stacks -- and write their methods."
   ]
  },
  {
   "cell_type": "code",
   "execution_count": 1,
   "metadata": {},
   "outputs": [],
   "source": [
    "class Node:\n",
    "    \n",
    "    def __init__(self, data):\n",
    "        self.data = data\n",
    "        self.prev = None\n",
    "        self.next = None"
   ]
  },
  {
   "cell_type": "code",
   "execution_count": 2,
   "metadata": {},
   "outputs": [],
   "source": [
    "class LinkedList:\n",
    "\n",
    "    def __init__(self):\n",
    "        self.head = None\n",
    "        self.tail = None\n",
    "        self.length = 0\n",
    "\n",
    "    def append(self, data):\n",
    "        new_node = Node(data)\n",
    "        if self.length == 0:\n",
    "            self.head = self.tail = new_node\n",
    "        else:\n",
    "            self.tail.next = new_node\n",
    "            new_node.prev = self.tail\n",
    "            self.tail = new_node\n",
    "        self.length += 1\n",
    "\n",
    "    def __iter__(self):\n",
    "        self._iter_node = self.head\n",
    "        return self \n",
    "\n",
    "    def __next__(self):\n",
    "        if self._iter_node is None:\n",
    "            raise StopIteration\n",
    "        ret = self._iter_node.data\n",
    "        self._iter_node = self._iter_node.next\n",
    "        return ret\n",
    "\n",
    "    def prepend(self, data):\n",
    "        new_node = Node(data)\n",
    "        if self.length == 0:\n",
    "            self.head = self.tail = new_node\n",
    "        else:\n",
    "            self.head.prev = new_node\n",
    "            new_node.next = self.head\n",
    "            self.head = new_node\n",
    "        self.length += 1\n",
    "\n",
    "    def __len__(self):\n",
    "        return self.length\n",
    "\n",
    "    def __str__(self):\n",
    "        return str([value for value in self])"
   ]
  },
  {
   "cell_type": "code",
   "execution_count": 3,
   "metadata": {},
   "outputs": [],
   "source": [
    "class Stack(LinkedList):\n",
    "    def push(self, data):\n",
    "        self.append(data)\n",
    "\n",
    "    def peek(self):\n",
    "        return self.tail.data\n",
    "    \n",
    "    def pop(self):\n",
    "        tail = self.tail.data\n",
    "        if self.length == 1: self.head = self.tail = None\n",
    "        else:\n",
    "            self.tail = self.tail.prev\n",
    "            self.tail.next = None\n",
    "        self.length -= 1\n",
    "        return tail\n",
    "    \n",
    "    def pop2(stack):\n",
    "        return stack.pop(), stack.pop()"
   ]
  },
  {
   "cell_type": "markdown",
   "metadata": {},
   "source": [
    "The inputs will be mathematical expressions in string form. The first step is to tokenize them into a list that will be iterated over. There's probably a more efficient way of doing this, but the function below does the job (note that we can't just use the `str.split()` method because sometimes there won't be a space between a number and an operator)."
   ]
  },
  {
   "cell_type": "code",
   "execution_count": 4,
   "metadata": {},
   "outputs": [],
   "source": [
    "import re\n",
    "\n",
    "def tokenize(expression):\n",
    "    non_split_chars = [str(x) for x in list(range(10))] + ['.']\n",
    "    splits = [c in non_split_chars for c in expression]\n",
    "    new_expression = ''\n",
    "    mini_expression = ''\n",
    "    for idx, b in enumerate(splits):\n",
    "        if b: mini_expression += expression[idx]\n",
    "        else:\n",
    "            new_expression += mini_expression + ' ' + expression[idx] + ' '\n",
    "            mini_expression = ''\n",
    "    if b: new_expression += expression[-1]\n",
    "    new_expression = re.sub(' +', ' ', new_expression)\n",
    "    new_expression = re.sub('\\\\* \\\\*', '**', new_expression)\n",
    "    return new_expression.split()"
   ]
  },
  {
   "cell_type": "markdown",
   "metadata": {},
   "source": [
    "When we write an expression, we use infix notation, meaning that we put the operators between the two operands. For a computer, it's much easier to evaluate an expression written in postfix notation. In postfix notation, the operands appear before the operator. The infix expression `1 + 2` becomes `1 2 +` in postfix notation.\n",
    "\n",
    "We can evaluate an expression in postfix notation using a stack. We read the expression from left to right and do the following:\n",
    "\n",
    "1. If we find a number, we push that number to the top of the stack.\n",
    "2. If we find an operator, we pop the top two elements of the stack, perform the operation, and then push back the result.\n",
    "\n",
    "First, we define the functions that will perform individual mathematical operations based on the above. Then, we create two dictionaries that associate the operators with the functions, and define the precedence level (remember BEDMAS?)."
   ]
  },
  {
   "cell_type": "code",
   "execution_count": 5,
   "metadata": {},
   "outputs": [],
   "source": [
    "def process_minus(stack):\n",
    "    top, second_to_top = stack.pop2()\n",
    "    result = second_to_top - top\n",
    "    stack.push(result)\n",
    "    \n",
    "def process_plus(stack):\n",
    "    top, second_to_top = stack.pop2()\n",
    "    result = second_to_top + top\n",
    "    stack.push(result)\n",
    "\n",
    "def process_times(stack):\n",
    "    top, second_to_top = stack.pop2()\n",
    "    result = second_to_top * top\n",
    "    stack.push(result)\n",
    "\n",
    "def process_divide(stack):\n",
    "    top, second_to_top = stack.pop2()\n",
    "    result = second_to_top / top\n",
    "    stack.push(result)\n",
    "\n",
    "def process_pow(stack):\n",
    "    top, second_to_top = stack.pop2()\n",
    "    result = second_to_top ** top\n",
    "    stack.push(result)\n",
    "\n",
    "precedence = {'+':1, '-':1, '*':2, '/': 2, '**':3}\n",
    "operators = {'+': process_plus, '-': process_minus, '/': process_divide, '*': process_times, '**': process_pow}"
   ]
  },
  {
   "cell_type": "markdown",
   "metadata": {},
   "source": [
    "Now, we write a function that can evaluate an expression in postfix form."
   ]
  },
  {
   "cell_type": "code",
   "execution_count": 6,
   "metadata": {},
   "outputs": [
    {
     "name": "stdout",
     "output_type": "stream",
     "text": [
      "              expression  result\n",
      "0                  4 6 -   -2.00\n",
      "1  4 1 2 9 3 / * + 5 - *    8.00\n",
      "2              1 2 + 3 -    0.00\n",
      "3              1 2 - 3 +    2.00\n",
      "4    10 3 5 * 16 4 - / +   11.25\n",
      "5         5 3 4 2 - ** *   45.00\n",
      "6        12 2 4 + / 21 *   42.00\n",
      "7             1 1 + 2 **    4.00\n",
      "8             1 1 2 ** +    2.00\n"
     ]
    }
   ],
   "source": [
    "import pandas as pd\n",
    "\n",
    "def evaluate_postfix(expression):\n",
    "    tokens = tokenize(expression)\n",
    "    stack = Stack()\n",
    "    for token in tokens:\n",
    "        if token in operators: operators[token](stack)\n",
    "        else: stack.push(float(token))\n",
    "    return stack.peek()\n",
    "\n",
    "expressions = [\n",
    "    \"4 6 -\",\n",
    "    \"4 1 2 9 3 / * + 5 - *\",\n",
    "    \"1 2 + 3 -\",\n",
    "    \"1 2 - 3 +\",\n",
    "    \"10 3 5 * 16 4 - / +\",\n",
    "    \"5 3 4 2 - ** *\",\n",
    "    \"12 2 4 + / 21 *\",\n",
    "    \"1 1 + 2 **\",\n",
    "    \"1 1 2 ** +\"\n",
    "]\n",
    "\n",
    "df = pd.DataFrame({'expression': expressions})\n",
    "df['result'] = df['expression'].apply(lambda x: evaluate_postfix(x))\n",
    "print(df)"
   ]
  },
  {
   "cell_type": "markdown",
   "metadata": {},
   "source": [
    "Next, we look at converting infix to postfix expressions. To do this, we'll implement the [Shunting-yard\n",
    "algorithm](https://en.wikipedia.org/wiki/Shunting_yard_algorithm). The data structure to implement this algorithm is (again) a stack. The algorithm makes use of the operator precedence levels (defined above) and has specific rules for handing parenthesis, and so on. The result is the `infix_to_postfix` function."
   ]
  },
  {
   "cell_type": "code",
   "execution_count": 7,
   "metadata": {},
   "outputs": [
    {
     "data": {
      "text/plain": [
       "'3 4 2 / +'"
      ]
     },
     "execution_count": 7,
     "metadata": {},
     "output_type": "execute_result"
    }
   ],
   "source": [
    "def process_opening_parenthesis(stack):\n",
    "    stack.push(\"(\")\n",
    "\n",
    "def process_closing_parenthesis(stack, postfix):\n",
    "    while stack.peek() != \"(\":\n",
    "        postfix.append(stack.pop())\n",
    "    stack.pop() # will be an unnecessary '('\n",
    "\n",
    "def process_operator(stack, postfix, operator):\n",
    "    while stack.length > 0 and stack.peek() in operators and precedence[stack.peek()] >= precedence[operator]:\n",
    "        postfix.append(stack.pop())\n",
    "    stack.push(operator)\n",
    "               \n",
    "def process_number(postfix, number):\n",
    "    postfix.append(number)\n",
    "\n",
    "def infix_to_postfix(expression):\n",
    "    tokens = tokenize(expression)\n",
    "    stack = Stack()\n",
    "    postfix = []\n",
    "    for token in tokens:\n",
    "        if token == \"(\": process_opening_parenthesis(stack)\n",
    "        elif token == \")\": process_closing_parenthesis(stack, postfix)\n",
    "        elif token in operators: process_operator(stack, postfix, token)\n",
    "        else: process_number(postfix, token)\n",
    "    while len(stack) > 0:\n",
    "        postfix.append(stack.pop())\n",
    "    return \" \".join(postfix)\n",
    "\n",
    "infix_to_postfix(\"3 + (4 / 2)\")"
   ]
  },
  {
   "cell_type": "markdown",
   "metadata": {},
   "source": [
    "And finally, we define the `evaluate` function, which evaluates expressions written in infix."
   ]
  },
  {
   "cell_type": "code",
   "execution_count": 8,
   "metadata": {},
   "outputs": [
    {
     "name": "stdout",
     "output_type": "stream",
     "text": [
      "                       expression    result\n",
      "0                           1 + 1      2.00\n",
      "1                             1+1      2.00\n",
      "2           1 * ( 2 - ( 1 + 1 ) )      0.00\n",
      "3      4 * ( 1 + 2 * (9 / 3) - 5)      8.00\n",
      "4       10 + 3 * 5 / (16 - 4 * 1)     11.25\n",
      "5   2 * 2 * 2 * 2 * 2 * 2 * 2 * 2    256.00\n",
      "6               2 **2** 2 **2** 2  65536.00\n",
      "7           ( 1 - 2 ) / ( 3 - 5 )      0.50\n",
      "8                       9 / 8 * 8      9.00\n",
      "9                  64 / ( 8 * 8 )      1.00\n",
      "10                       64/8 * 8     64.00\n"
     ]
    }
   ],
   "source": [
    "def evaluate(expression):\n",
    "    postfix_expression = infix_to_postfix(expression)\n",
    "    return evaluate_postfix(postfix_expression)\n",
    "\n",
    "expressions = [\n",
    "    \"1 + 1\",\n",
    "    \"1+1\",\n",
    "    \"1 * ( 2 - ( 1 + 1 ) )\",\n",
    "    \"4 * ( 1 + 2 * (9 / 3) - 5)\",\n",
    "    \"10 + 3 * 5 / (16 - 4 * 1)\",\n",
    "    \"2 * 2 * 2 * 2 * 2 * 2 * 2 * 2\",\n",
    "    \"2 **2** 2 **2** 2\",\n",
    "    \"( 1 - 2 ) / ( 3 - 5 )\",\n",
    "    \"9 / 8 * 8\",\n",
    "    \"64 / ( 8 * 8 )\",\n",
    "    \" 64/8 * 8\"\n",
    "]\n",
    "\n",
    "df = pd.DataFrame({'expression': expressions})\n",
    "df['result'] = df['expression'].apply(lambda x: evaluate(x))\n",
    "print(df)"
   ]
  }
 ],
 "metadata": {
  "kernelspec": {
   "display_name": "dq",
   "language": "python",
   "name": "python3"
  },
  "language_info": {
   "codemirror_mode": {
    "name": "ipython",
    "version": 3
   },
   "file_extension": ".py",
   "mimetype": "text/x-python",
   "name": "python",
   "nbconvert_exporter": "python",
   "pygments_lexer": "ipython3",
   "version": "3.11.4"
  },
  "orig_nbformat": 4
 },
 "nbformat": 4,
 "nbformat_minor": 2
}
